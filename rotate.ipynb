{
 "cells": [
  {
   "cell_type": "markdown",
   "metadata": {},
   "source": [
    "### Computer graphics program to rotate a triangle"
   ]
  },
  {
   "cell_type": "code",
   "execution_count": 1,
   "metadata": {},
   "outputs": [
    {
     "name": "stdout",
     "output_type": "stream",
     "text": [
      "Point 1\n",
      "Point 2\n",
      "Point 3\n",
      "[Point(150.0, 200.0), Point(25.0, 190.0), Point(250.0, 280.0)]\n"
     ]
    }
   ],
   "source": [
    "from graphics import *\n",
    "from random import randint\n",
    "from math import sin, cos, radians\n",
    "import time\n",
    " \n",
    "def rotateTriangle(triangle, degrees):\n",
    "   angle = radians(degrees)\n",
    "   cosang, sinang = cos(angle), sin(angle)\n",
    " \n",
    "   points = triangle.getPoints()\n",
    "   \n",
    "   n = len(points)\n",
    "   cx = sum(p.getX() for p in points) / n\n",
    "   cy = sum(p.getY() for p in points) / n\n",
    " \n",
    "   new_points = []\n",
    "   for p in points:\n",
    "       x, y = p.getX(), p.getY()\n",
    "       tx, ty = x-cx, y-cy\n",
    "       new_x = ( tx*cosang + ty*sinang) + cx\n",
    "       new_y = (-tx*sinang + ty*cosang) + cy\n",
    "       new_points.append(Point(new_x, new_y))\n",
    " \n",
    "   rotated_ploygon = triangle.clone()\n",
    "   rotated_ploygon.points = new_points\n",
    "   return rotated_ploygon\n",
    " \n",
    " \n",
    "win = GraphWin('Rotate Triangle', 600, 600)\n",
    " \n",
    "print(\"Point 1\")\n",
    "x1=int(input(\"Enter x:\"))\n",
    "y1=int(input(\"Enter y:\"))\n",
    " \n",
    "print(\"Point 2\")\n",
    "x2=int(input(\"Enter x:\"))\n",
    "y2=int(input(\"Enter y:\"))\n",
    "\n",
    "print(\"Point 3\")\n",
    "x3=int(input(\"Enter x:\"))\n",
    "y3=int(input(\"Enter y:\"))\n",
    "\n",
    "p1 = Point(x1,y1)\n",
    "p2 = Point(x2,y2)\n",
    "p3 = Point(x3, y3)\n",
    "triangle = Polygon(p1,p2,p3)\n",
    "triangle.setFill('cyan')\n",
    "triangle.draw(win)\n",
    "\n",
    "angle=int(input(\"Enter the angle of rotation\"))\n",
    "triangle = rotateTriangle(triangle,angle)\n",
    "triangle.setFill('blue')\n",
    "triangle.draw(win)\n",
    "\n",
    "win.getMouse()\n",
    "win.close()"
   ]
  },
  {
   "cell_type": "code",
   "execution_count": null,
   "metadata": {},
   "outputs": [],
   "source": []
  }
 ],
 "metadata": {
  "kernelspec": {
   "display_name": "pytorch_gpu",
   "language": "python",
   "name": "python3"
  },
  "language_info": {
   "codemirror_mode": {
    "name": "ipython",
    "version": 3
   },
   "file_extension": ".py",
   "mimetype": "text/x-python",
   "name": "python",
   "nbconvert_exporter": "python",
   "pygments_lexer": "ipython3",
   "version": "3.9.13"
  }
 },
 "nbformat": 4,
 "nbformat_minor": 2
}
