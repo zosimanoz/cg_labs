{
 "cells": [
  {
   "cell_type": "markdown",
   "metadata": {},
   "source": [
    "### Translate a rectange"
   ]
  },
  {
   "cell_type": "code",
   "execution_count": 2,
   "metadata": {},
   "outputs": [
    {
     "name": "stdout",
     "output_type": "stream",
     "text": [
      "Corner 1\n",
      "Corner 2\n"
     ]
    },
    {
     "ename": "GraphicsError",
     "evalue": "getMouse in closed window",
     "output_type": "error",
     "traceback": [
      "\u001b[0;31m---------------------------------------------------------------------------\u001b[0m",
      "\u001b[0;31mGraphicsError\u001b[0m                             Traceback (most recent call last)",
      "Cell \u001b[0;32mIn [2], line 30\u001b[0m\n\u001b[1;32m     27\u001b[0m rt\u001b[38;5;241m=\u001b[39mRectangle(c1, c2)\n\u001b[1;32m     28\u001b[0m rt\u001b[38;5;241m.\u001b[39mdraw(win)\n\u001b[0;32m---> 30\u001b[0m \u001b[43mwin\u001b[49m\u001b[38;5;241;43m.\u001b[39;49m\u001b[43mgetMouse\u001b[49m\u001b[43m(\u001b[49m\u001b[43m)\u001b[49m\n\u001b[1;32m     31\u001b[0m win\u001b[38;5;241m.\u001b[39mclose()\n",
      "File \u001b[0;32m~/miniforge3/envs/pytorch_gpu/lib/python3.9/site-packages/graphics/__init__.py:316\u001b[0m, in \u001b[0;36mGraphWin.getMouse\u001b[0;34m(self)\u001b[0m\n\u001b[1;32m    314\u001b[0m \u001b[38;5;28;01mwhile\u001b[39;00m \u001b[38;5;28mself\u001b[39m\u001b[38;5;241m.\u001b[39mmouseX \u001b[38;5;241m==\u001b[39m \u001b[38;5;28;01mNone\u001b[39;00m \u001b[38;5;129;01mor\u001b[39;00m \u001b[38;5;28mself\u001b[39m\u001b[38;5;241m.\u001b[39mmouseY \u001b[38;5;241m==\u001b[39m \u001b[38;5;28;01mNone\u001b[39;00m:\n\u001b[1;32m    315\u001b[0m     \u001b[38;5;28mself\u001b[39m\u001b[38;5;241m.\u001b[39mupdate()\n\u001b[0;32m--> 316\u001b[0m     \u001b[38;5;28;01mif\u001b[39;00m \u001b[38;5;28mself\u001b[39m\u001b[38;5;241m.\u001b[39misClosed(): \u001b[38;5;28;01mraise\u001b[39;00m GraphicsError(\u001b[38;5;124m\"\u001b[39m\u001b[38;5;124mgetMouse in closed window\u001b[39m\u001b[38;5;124m\"\u001b[39m)\n\u001b[1;32m    317\u001b[0m     time\u001b[38;5;241m.\u001b[39msleep(\u001b[38;5;241m.1\u001b[39m) \u001b[38;5;66;03m# give up thread\u001b[39;00m\n\u001b[1;32m    318\u001b[0m x,y \u001b[38;5;241m=\u001b[39m \u001b[38;5;28mself\u001b[39m\u001b[38;5;241m.\u001b[39mtoWorld(\u001b[38;5;28mself\u001b[39m\u001b[38;5;241m.\u001b[39mmouseX, \u001b[38;5;28mself\u001b[39m\u001b[38;5;241m.\u001b[39mmouseY)\n",
      "\u001b[0;31mGraphicsError\u001b[0m: getMouse in closed window"
     ]
    }
   ],
   "source": [
    "\n",
    "from graphics import *\n",
    "win = GraphWin(\"Translate Rectangle\", 600, 600)\n",
    " \n",
    "print(\"Corner 1\")\n",
    "x1=int(input(\"Enter x\"))\n",
    "y1=int(input(\"Enter y\"))\n",
    "c1=Point(x1, y1)\n",
    " \n",
    "print(\"Corner 2\")\n",
    "x2=int(input(\"Enter x\"))\n",
    "y2=int(input(\"Enter y\"))\n",
    "c2 = Point(x2, y2)\n",
    " \n",
    "r = Rectangle(c1, c2)\n",
    "r.draw(win)\n",
    " \n",
    "dx=int(input(\"Translation tx\"))\n",
    "dy=int(input(\"Translation ty\"))\n",
    " \n",
    "x1+=dx\n",
    "x2+=dx\n",
    "y1+=dy\n",
    "y2+=dy\n",
    " \n",
    "c1 = Point(x1,y1)\n",
    "c2 = Point(x2, y2)\n",
    "rt=Rectangle(c1, c2)\n",
    "rt.draw(win)\n",
    " \n",
    "win.getMouse()\n",
    "win.close()"
   ]
  },
  {
   "cell_type": "code",
   "execution_count": null,
   "metadata": {},
   "outputs": [],
   "source": []
  }
 ],
 "metadata": {
  "kernelspec": {
   "display_name": "pytorch_gpu",
   "language": "python",
   "name": "python3"
  },
  "language_info": {
   "codemirror_mode": {
    "name": "ipython",
    "version": 3
   },
   "file_extension": ".py",
   "mimetype": "text/x-python",
   "name": "python",
   "nbconvert_exporter": "python",
   "pygments_lexer": "ipython3",
   "version": "3.9.13"
  }
 },
 "nbformat": 4,
 "nbformat_minor": 2
}
